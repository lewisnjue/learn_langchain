{
 "cells": [
  {
   "cell_type": "code",
   "execution_count": 1,
   "id": "0fb8e06d-66e0-497c-ace4-4a3f59004d5e",
   "metadata": {},
   "outputs": [],
   "source": [
    "import requests # pip install requests"
   ]
  },
  {
   "cell_type": "code",
   "execution_count": 4,
   "id": "2b5eb50e-84ce-4fdf-b75c-46bb04e6005f",
   "metadata": {},
   "outputs": [
    {
     "data": {
      "text/plain": [
       "'http://localhost:8100/chain/invoke'"
      ]
     },
     "execution_count": 4,
     "metadata": {},
     "output_type": "execute_result"
    }
   ],
   "source": [
    "endpoint = \"http://localhost:8100/chain\"\n",
    "chain_type = \"/invoke\"\n",
    "url = f\"{endpoint}{chain_type}\"\n",
    "url"
   ]
  },
  {
   "cell_type": "code",
   "execution_count": 5,
   "id": "2e56accb-42d3-4d4a-b668-fcf3aa6a7cda",
   "metadata": {},
   "outputs": [],
   "source": [
    "data = {\"input\": \"Tell about New York\"}"
   ]
  },
  {
   "cell_type": "code",
   "execution_count": 6,
   "id": "61199b75-069c-4825-b7cc-c3476bbde17e",
   "metadata": {},
   "outputs": [
    {
     "data": {
      "text/plain": [
       "{'output': 'New York City is located in southeastern New York State, approximately halfway between Washington, D.C. and Boston. Its strategic position at the mouth of the Hudson River, which leads into a naturally sheltered harbor and the Atlantic Ocean, has contributed to its significance as a trading port. The city is predominantly built on three islands: Long Island, Manhattan, and Staten Island. \\n\\nArchitecturally, New York is known for its large residential districts characterized by elegant brownstone rowhouses, townhouses, and shabby tenements, many of which were built during a period of rapid expansion from 1870 to 1930. The city has a high number of buildings, with 6,455 high-rise structures, ranking third in the world after Hong Kong and Seoul. The building materials of choice in the city shifted to stone and brick following the limitation on wood-frame houses after the Great Fire of 1835.',\n",
       " 'metadata': {'run_id': 'd0526b8d-e430-473b-9702-1fc62be1aa3c',\n",
       "  'feedback_tokens': []}}"
      ]
     },
     "execution_count": 6,
     "metadata": {},
     "output_type": "execute_result"
    }
   ],
   "source": [
    "r = requests.post(url, json=data)"
   ]
  },
  {
   "cell_type": "code",
   "execution_count": 7,
   "id": "76e07acb-2e15-4418-82e8-48379473362b",
   "metadata": {},
   "outputs": [
    {
     "data": {
      "text/plain": [
       "'New York City is located in southeastern New York State, approximately halfway between Washington, D.C. and Boston. Its strategic position at the mouth of the Hudson River, which leads into a naturally sheltered harbor and the Atlantic Ocean, has contributed to its significance as a trading port. The city is predominantly built on three islands: Long Island, Manhattan, and Staten Island. \\n\\nArchitecturally, New York is known for its large residential districts characterized by elegant brownstone rowhouses, townhouses, and shabby tenements, many of which were built during a period of rapid expansion from 1870 to 1930. The city has a high number of buildings, with 6,455 high-rise structures, ranking third in the world after Hong Kong and Seoul. The building materials of choice in the city shifted to stone and brick following the limitation on wood-frame houses after the Great Fire of 1835.'"
      ]
     },
     "execution_count": 7,
     "metadata": {},
     "output_type": "execute_result"
    }
   ],
   "source": [
    "r.json()['output']"
   ]
  },
  {
   "cell_type": "code",
   "execution_count": null,
   "id": "1742926c-4f07-4018-a72b-b553844d67c0",
   "metadata": {},
   "outputs": [],
   "source": []
  }
 ],
 "metadata": {
  "kernelspec": {
   "display_name": "Python 3 (ipykernel)",
   "language": "python",
   "name": "python3"
  },
  "language_info": {
   "codemirror_mode": {
    "name": "ipython",
    "version": 3
   },
   "file_extension": ".py",
   "mimetype": "text/x-python",
   "name": "python",
   "nbconvert_exporter": "python",
   "pygments_lexer": "ipython3",
   "version": "3.12.3"
  }
 },
 "nbformat": 4,
 "nbformat_minor": 5
}
