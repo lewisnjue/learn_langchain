{
 "cells": [
  {
   "cell_type": "code",
   "execution_count": 1,
   "id": "581316d6-7903-45f4-993b-429213d41619",
   "metadata": {},
   "outputs": [],
   "source": [
    "from langserve import RemoteRunnable # pip install \"langserve[client]\"\n",
    "\n",
    "chain_endpoint = \"http://localhost:8100/chain/\""
   ]
  },
  {
   "cell_type": "code",
   "execution_count": 2,
   "id": "d07f3171-8e30-41b3-b229-8c92025e1bfc",
   "metadata": {},
   "outputs": [],
   "source": [
    "chain = RemoteRunnable(chain_endpoint)"
   ]
  },
  {
   "cell_type": "code",
   "execution_count": 3,
   "id": "9af55f3f-1230-4972-8b79-830bd53e244c",
   "metadata": {},
   "outputs": [
    {
     "data": {
      "text/plain": [
       "\"New York, often referred to as New York City or NYC, is the most populous city in the United States. It is located at the southern tip of New York State and sits on one of the world's largest natural harbors. The city is comprised of five boroughs, each corresponding to a respective county. New York serves as a global center for various sectors, including finance, commerce, culture, technology, entertainment, media, academics, scientific output, the arts, and fashion. Additionally, it is home to the headquarters of the United Nations, making it a hub for international diplomacy. The city's strategic location at the mouth of the Hudson River has significantly contributed to its growth as a trading port.\""
      ]
     },
     "execution_count": 3,
     "metadata": {},
     "output_type": "execute_result"
    }
   ],
   "source": [
    "chain.invoke(\"Tell me about NY\")"
   ]
  },
  {
   "cell_type": "code",
   "execution_count": 6,
   "id": "82b8a9d0-f02f-4086-8e15-03351cb41e58",
   "metadata": {},
   "outputs": [],
   "source": [
    "# for chunk in chain.stream(\"What do you know about Boise?\"):\n",
    "#     print(chunk)"
   ]
  },
  {
   "cell_type": "code",
   "execution_count": 7,
   "id": "bb737e85-9c92-41c3-8bad-ec07e48d955d",
   "metadata": {},
   "outputs": [
    {
     "data": {
      "text/plain": [
       "\"New York, often referred to as New York City or NYC, is the most populous city in the United States. It is located at the southern tip of New York State, positioned on one of the world's largest natural harbors. The city consists of five boroughs, each corresponding to a respective county. New York serves as a global center for various sectors, including finance, commerce, culture, technology, entertainment, media, academics, scientific output, the arts, and fashion. Additionally, it is home to the headquarters of the United Nations, making it a hub for international diplomacy.\""
      ]
     },
     "execution_count": 7,
     "metadata": {},
     "output_type": "execute_result"
    }
   ],
   "source": [
    "await chain.ainvoke(\"Tell me about NY\")"
   ]
  },
  {
   "cell_type": "code",
   "execution_count": 9,
   "id": "b6e8f95d-d9ac-4c08-8cb5-cea02ff731f2",
   "metadata": {},
   "outputs": [],
   "source": [
    "# async for chunk in chain.astream(\"What do you know about Boise?\"):\n",
    "#     print(chunk)"
   ]
  },
  {
   "cell_type": "code",
   "execution_count": 11,
   "id": "2eb5bb7d-aa7c-4a6f-931d-08cb31f5d99e",
   "metadata": {},
   "outputs": [],
   "source": [
    "from langchain_core.prompts import PromptTemplate\n",
    "from langchain_core.runnables import RunnablePassthrough\n",
    "\n",
    "prompt = PromptTemplate.from_template(\"Tell me about {topic}\")\n",
    "\n",
    "def format_prompt(inputs):\n",
    "    prompt_value = prompt.format_prompt(**inputs)\n",
    "    return prompt_value.to_string()\n",
    "\n",
    "\n",
    "new_chain = RunnablePassthrough() | format_prompt | chain"
   ]
  },
  {
   "cell_type": "code",
   "execution_count": 16,
   "id": "13f6fc1f-3930-4bcf-b439-b4b4640772b2",
   "metadata": {},
   "outputs": [
    {
     "data": {
      "text/plain": [
       "'The provided context does not contain specific information about Boise food. It focuses on aspects such as top employers, cultural events, and attractions in Boise, Idaho.'"
      ]
     },
     "execution_count": 16,
     "metadata": {},
     "output_type": "execute_result"
    }
   ],
   "source": [
    "new_chain.invoke({\"topic\": \"Boise Food\"})"
   ]
  },
  {
   "cell_type": "code",
   "execution_count": null,
   "id": "040d25e8-9bf5-46f6-90eb-12bb81e5d1de",
   "metadata": {},
   "outputs": [],
   "source": []
  }
 ],
 "metadata": {
  "kernelspec": {
   "display_name": "Python 3 (ipykernel)",
   "language": "python",
   "name": "python3"
  },
  "language_info": {
   "codemirror_mode": {
    "name": "ipython",
    "version": 3
   },
   "file_extension": ".py",
   "mimetype": "text/x-python",
   "name": "python",
   "nbconvert_exporter": "python",
   "pygments_lexer": "ipython3",
   "version": "3.12.3"
  }
 },
 "nbformat": 4,
 "nbformat_minor": 5
}
