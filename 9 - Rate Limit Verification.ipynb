{
 "cells": [
  {
   "cell_type": "code",
   "execution_count": 3,
   "id": "0fb8e06d-66e0-497c-ace4-4a3f59004d5e",
   "metadata": {},
   "outputs": [],
   "source": [
    "import requests # pip install requests"
   ]
  },
  {
   "cell_type": "code",
   "execution_count": 31,
   "id": "2b5eb50e-84ce-4fdf-b75c-46bb04e6005f",
   "metadata": {},
   "outputs": [
    {
     "data": {
      "text/plain": [
       "'http://localhost:8100/'"
      ]
     },
     "execution_count": 31,
     "metadata": {},
     "output_type": "execute_result"
    }
   ],
   "source": [
    "endpoint = \"http://localhost:8100/\"\n",
    "chain_type = \"\"\n",
    "url = f\"{endpoint}{chain_type}\"\n",
    "url"
   ]
  },
  {
   "cell_type": "code",
   "execution_count": 32,
   "id": "2e56accb-42d3-4d4a-b668-fcf3aa6a7cda",
   "metadata": {},
   "outputs": [],
   "source": [
    "data = {\"input\": \"Tell about New York\"}"
   ]
  },
  {
   "cell_type": "code",
   "execution_count": 33,
   "id": "61199b75-069c-4825-b7cc-c3476bbde17e",
   "metadata": {},
   "outputs": [],
   "source": [
    "r = requests.get(url, json=data)"
   ]
  },
  {
   "cell_type": "code",
   "execution_count": 34,
   "id": "76e07acb-2e15-4418-82e8-48379473362b",
   "metadata": {},
   "outputs": [
    {
     "data": {
      "text/plain": [
       "429"
      ]
     },
     "execution_count": 34,
     "metadata": {},
     "output_type": "execute_result"
    }
   ],
   "source": [
    "r.status_code"
   ]
  },
  {
   "cell_type": "code",
   "execution_count": null,
   "id": "1742926c-4f07-4018-a72b-b553844d67c0",
   "metadata": {},
   "outputs": [],
   "source": []
  },
  {
   "cell_type": "code",
   "execution_count": null,
   "id": "4d287252-dc14-4771-b8f6-23339ada5652",
   "metadata": {},
   "outputs": [],
   "source": []
  },
  {
   "cell_type": "code",
   "execution_count": null,
   "id": "f67571c4-aef6-49bf-a98f-f62cd66457c7",
   "metadata": {},
   "outputs": [],
   "source": []
  }
 ],
 "metadata": {
  "kernelspec": {
   "display_name": "Python 3 (ipykernel)",
   "language": "python",
   "name": "python3"
  },
  "language_info": {
   "codemirror_mode": {
    "name": "ipython",
    "version": 3
   },
   "file_extension": ".py",
   "mimetype": "text/x-python",
   "name": "python",
   "nbconvert_exporter": "python",
   "pygments_lexer": "ipython3",
   "version": "3.12.3"
  }
 },
 "nbformat": 4,
 "nbformat_minor": 5
}
